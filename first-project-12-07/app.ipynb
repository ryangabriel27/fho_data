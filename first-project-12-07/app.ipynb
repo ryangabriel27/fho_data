{
 "cells": [
  {
   "cell_type": "code",
   "execution_count": null,
   "id": "db9feb40",
   "metadata": {
    "vscode": {
     "languageId": "plaintext"
    }
   },
   "outputs": [],
   "source": [
    "import pandas as pandas"
   ]
  }
 ],
 "metadata": {
  "language_info": {
   "name": "python"
  }
 },
 "nbformat": 4,
 "nbformat_minor": 5
}
